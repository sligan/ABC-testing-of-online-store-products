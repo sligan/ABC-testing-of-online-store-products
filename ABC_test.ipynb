{
 "cells": [
  {
   "cell_type": "code",
   "execution_count": null,
   "metadata": {},
   "outputs": [],
   "source": [
    "import psycopg2\n",
    "import pandas as pd\n",
    "import numpy as np\n",
    "import matplotlib.pyplot as plt\n",
    "import seaborn as sns\n",
    "import statsmodels.stats.proportion as proportion\n",
    "import bootstrapped.bootstrap as bs\n",
    "import bootstrapped.stats_functions as bs_stats\n",
    "import bootstrapped.compare_functions as bs_compare\n",
    "import statsmodels.stats.power as smp\n",
    "from statsmodels.stats.multitest import multipletests\n",
    "import os\n",
    "from dotenv import load_dotenv"
   ]
  },
  {
   "cell_type": "code",
   "execution_count": 2,
   "metadata": {},
   "outputs": [],
   "source": [
    "load_dotenv()\n",
    "\n",
    "def connect(query):\n",
    "    connection = psycopg2.connect(database = os.getenv('PC_DB'),\n",
    "                                  user = os.getenv('PC_USERNAME'),\n",
    "                                  password = os.getenv('PC_PASSWORD'),\n",
    "                                  host = os.getenv('PC_HOST'),\n",
    "                                  port = os.getenv('PC_PORT'))\n",
    "    cursor = connection.cursor()\n",
    "    cursor.execute(query)\n",
    "    result = cursor.fetchall()\n",
    "    columns = []\n",
    "    for col in cursor.description:\n",
    "        columns.append(col[0])\n",
    "    df = pd.DataFrame(result, columns = columns)\n",
    "    return df\n",
    "\n",
    "purchases = connect(\"\"\"SELECT * FROM purchases\"\"\")\n",
    "registration = connect(\"\"\"SELECT * FROM registration\"\"\")\n",
    "\n",
    "from clickhouse_driver import Client\n",
    "\n",
    "client = Client(os.getenv('CH_IP'),\n",
    "                database = os.getenv('CH_DB'),\n",
    "                password = os.getenv('CH_PASS'),\n",
    "                port = os.getenv('CH_PORT'),\n",
    "                user= os.getenv('CH_USERNAME'),\n",
    "                verify = False)\n",
    "result, columns = client.execute('SELECT * FROM new_events', with_column_types=True)\n",
    "col = []\n",
    "for desc in columns:\n",
    "    col.append(desc[0])\n",
    "new_events = pd.DataFrame(result,columns=col)"
   ]
  },
  {
   "cell_type": "code",
   "execution_count": 3,
   "metadata": {},
   "outputs": [
    {
     "data": {
      "text/html": [
       "<div>\n",
       "<style scoped>\n",
       "    .dataframe tbody tr th:only-of-type {\n",
       "        vertical-align: middle;\n",
       "    }\n",
       "\n",
       "    .dataframe tbody tr th {\n",
       "        vertical-align: top;\n",
       "    }\n",
       "\n",
       "    .dataframe thead th {\n",
       "        text-align: right;\n",
       "    }\n",
       "</style>\n",
       "<table border=\"1\" class=\"dataframe\">\n",
       "  <thead>\n",
       "    <tr style=\"text-align: right;\">\n",
       "      <th></th>\n",
       "      <th>user_id</th>\n",
       "      <th>timestamp</th>\n",
       "      <th>test_group</th>\n",
       "      <th>event</th>\n",
       "    </tr>\n",
       "  </thead>\n",
       "  <tbody>\n",
       "    <tr>\n",
       "      <th>0</th>\n",
       "      <td>1256666</td>\n",
       "      <td>2020-11-19 12:14:20</td>\n",
       "      <td>big_increase</td>\n",
       "      <td>registration</td>\n",
       "    </tr>\n",
       "    <tr>\n",
       "      <th>1</th>\n",
       "      <td>1225937</td>\n",
       "      <td>2020-11-23 03:37:05</td>\n",
       "      <td>small_increase</td>\n",
       "      <td>registration</td>\n",
       "    </tr>\n",
       "    <tr>\n",
       "      <th>2</th>\n",
       "      <td>1265347</td>\n",
       "      <td>2020-11-19 16:15:57</td>\n",
       "      <td>small_increase</td>\n",
       "      <td>registration</td>\n",
       "    </tr>\n",
       "    <tr>\n",
       "      <th>3</th>\n",
       "      <td>1332763</td>\n",
       "      <td>2020-11-06 03:10:02</td>\n",
       "      <td>small_increase</td>\n",
       "      <td>registration</td>\n",
       "    </tr>\n",
       "    <tr>\n",
       "      <th>4</th>\n",
       "      <td>1317792</td>\n",
       "      <td>2020-11-17 00:45:55</td>\n",
       "      <td>control</td>\n",
       "      <td>registration</td>\n",
       "    </tr>\n",
       "    <tr>\n",
       "      <th>...</th>\n",
       "      <td>...</td>\n",
       "      <td>...</td>\n",
       "      <td>...</td>\n",
       "      <td>...</td>\n",
       "    </tr>\n",
       "    <tr>\n",
       "      <th>327165</th>\n",
       "      <td>1268139</td>\n",
       "      <td>2020-11-19 15:11:26</td>\n",
       "      <td>small_increase</td>\n",
       "      <td>registration</td>\n",
       "    </tr>\n",
       "    <tr>\n",
       "      <th>327166</th>\n",
       "      <td>1336773</td>\n",
       "      <td>2020-11-17 13:01:38</td>\n",
       "      <td>small_increase</td>\n",
       "      <td>registration</td>\n",
       "    </tr>\n",
       "    <tr>\n",
       "      <th>327167</th>\n",
       "      <td>1400394</td>\n",
       "      <td>2020-11-17 18:05:28</td>\n",
       "      <td>control</td>\n",
       "      <td>registration</td>\n",
       "    </tr>\n",
       "    <tr>\n",
       "      <th>327168</th>\n",
       "      <td>1210538</td>\n",
       "      <td>2020-11-09 20:40:37</td>\n",
       "      <td>small_increase</td>\n",
       "      <td>registration</td>\n",
       "    </tr>\n",
       "    <tr>\n",
       "      <th>327169</th>\n",
       "      <td>1210538</td>\n",
       "      <td>2020-11-10 01:37:12</td>\n",
       "      <td></td>\n",
       "      <td>purchase</td>\n",
       "    </tr>\n",
       "  </tbody>\n",
       "</table>\n",
       "<p>327170 rows × 4 columns</p>\n",
       "</div>"
      ],
      "text/plain": [
       "        user_id           timestamp      test_group         event\n",
       "0       1256666 2020-11-19 12:14:20    big_increase  registration\n",
       "1       1225937 2020-11-23 03:37:05  small_increase  registration\n",
       "2       1265347 2020-11-19 16:15:57  small_increase  registration\n",
       "3       1332763 2020-11-06 03:10:02  small_increase  registration\n",
       "4       1317792 2020-11-17 00:45:55         control  registration\n",
       "...         ...                 ...             ...           ...\n",
       "327165  1268139 2020-11-19 15:11:26  small_increase  registration\n",
       "327166  1336773 2020-11-17 13:01:38  small_increase  registration\n",
       "327167  1400394 2020-11-17 18:05:28         control  registration\n",
       "327168  1210538 2020-11-09 20:40:37  small_increase  registration\n",
       "327169  1210538 2020-11-10 01:37:12                      purchase\n",
       "\n",
       "[327170 rows x 4 columns]"
      ]
     },
     "execution_count": 3,
     "metadata": {},
     "output_type": "execute_result"
    }
   ],
   "source": [
    "new_events"
   ]
  },
  {
   "cell_type": "code",
   "execution_count": 116,
   "metadata": {},
   "outputs": [
    {
     "data": {
      "text/html": [
       "<div>\n",
       "<style scoped>\n",
       "    .dataframe tbody tr th:only-of-type {\n",
       "        vertical-align: middle;\n",
       "    }\n",
       "\n",
       "    .dataframe tbody tr th {\n",
       "        vertical-align: top;\n",
       "    }\n",
       "\n",
       "    .dataframe thead th {\n",
       "        text-align: right;\n",
       "    }\n",
       "</style>\n",
       "<table border=\"1\" class=\"dataframe\">\n",
       "  <thead>\n",
       "    <tr style=\"text-align: right;\">\n",
       "      <th></th>\n",
       "      <th>user_id</th>\n",
       "      <th>timestamp</th>\n",
       "      <th>event</th>\n",
       "      <th>test_group</th>\n",
       "    </tr>\n",
       "  </thead>\n",
       "  <tbody>\n",
       "    <tr>\n",
       "      <th>0</th>\n",
       "      <td>1256666</td>\n",
       "      <td>2020-11-19 12:14:20</td>\n",
       "      <td>registration</td>\n",
       "      <td>big_increase</td>\n",
       "    </tr>\n",
       "    <tr>\n",
       "      <th>1</th>\n",
       "      <td>1225937</td>\n",
       "      <td>2020-11-23 03:37:05</td>\n",
       "      <td>registration</td>\n",
       "      <td>small_increase</td>\n",
       "    </tr>\n",
       "    <tr>\n",
       "      <th>2</th>\n",
       "      <td>1265347</td>\n",
       "      <td>2020-11-19 16:15:57</td>\n",
       "      <td>registration</td>\n",
       "      <td>small_increase</td>\n",
       "    </tr>\n",
       "    <tr>\n",
       "      <th>3</th>\n",
       "      <td>1332763</td>\n",
       "      <td>2020-11-06 03:10:02</td>\n",
       "      <td>registration</td>\n",
       "      <td>small_increase</td>\n",
       "    </tr>\n",
       "    <tr>\n",
       "      <th>4</th>\n",
       "      <td>1317792</td>\n",
       "      <td>2020-11-17 00:45:55</td>\n",
       "      <td>registration</td>\n",
       "      <td>control</td>\n",
       "    </tr>\n",
       "    <tr>\n",
       "      <th>...</th>\n",
       "      <td>...</td>\n",
       "      <td>...</td>\n",
       "      <td>...</td>\n",
       "      <td>...</td>\n",
       "    </tr>\n",
       "    <tr>\n",
       "      <th>327165</th>\n",
       "      <td>1268139</td>\n",
       "      <td>2020-11-19 15:11:26</td>\n",
       "      <td>registration</td>\n",
       "      <td>small_increase</td>\n",
       "    </tr>\n",
       "    <tr>\n",
       "      <th>327166</th>\n",
       "      <td>1336773</td>\n",
       "      <td>2020-11-17 13:01:38</td>\n",
       "      <td>registration</td>\n",
       "      <td>small_increase</td>\n",
       "    </tr>\n",
       "    <tr>\n",
       "      <th>327167</th>\n",
       "      <td>1400394</td>\n",
       "      <td>2020-11-17 18:05:28</td>\n",
       "      <td>registration</td>\n",
       "      <td>control</td>\n",
       "    </tr>\n",
       "    <tr>\n",
       "      <th>327168</th>\n",
       "      <td>1210538</td>\n",
       "      <td>2020-11-09 20:40:37</td>\n",
       "      <td>registration</td>\n",
       "      <td>small_increase</td>\n",
       "    </tr>\n",
       "    <tr>\n",
       "      <th>327169</th>\n",
       "      <td>1210538</td>\n",
       "      <td>2020-11-10 01:37:12</td>\n",
       "      <td>purchase</td>\n",
       "      <td>small_increase</td>\n",
       "    </tr>\n",
       "  </tbody>\n",
       "</table>\n",
       "<p>327170 rows × 4 columns</p>\n",
       "</div>"
      ],
      "text/plain": [
       "        user_id           timestamp         event      test_group\n",
       "0       1256666 2020-11-19 12:14:20  registration    big_increase\n",
       "1       1225937 2020-11-23 03:37:05  registration  small_increase\n",
       "2       1265347 2020-11-19 16:15:57  registration  small_increase\n",
       "3       1332763 2020-11-06 03:10:02  registration  small_increase\n",
       "4       1317792 2020-11-17 00:45:55  registration         control\n",
       "...         ...                 ...           ...             ...\n",
       "327165  1268139 2020-11-19 15:11:26  registration  small_increase\n",
       "327166  1336773 2020-11-17 13:01:38  registration  small_increase\n",
       "327167  1400394 2020-11-17 18:05:28  registration         control\n",
       "327168  1210538 2020-11-09 20:40:37  registration  small_increase\n",
       "327169  1210538 2020-11-10 01:37:12      purchase  small_increase\n",
       "\n",
       "[327170 rows x 4 columns]"
      ]
     },
     "execution_count": 116,
     "metadata": {},
     "output_type": "execute_result"
    }
   ],
   "source": [
    "new_events_1 = new_events[['user_id','test_group']].copy()\n",
    "new_events_1 = new_events_1.drop_duplicates(subset=['user_id'])\n",
    "\n",
    "new_events = pd.merge(new_events,new_events_1,how='left',left_on='user_id',right_on='user_id')\n",
    "\n",
    "new_events = new_events.drop(columns=['test_group_x'])\n",
    "new_events.rename(columns={'test_group_y': 'test_group'}, inplace=True)\n",
    "new_events\n",
    "\n",
    "# таким образом были заполнены пустые поля в new_events['test_group']."
   ]
  },
  {
   "cell_type": "code",
   "execution_count": 117,
   "metadata": {},
   "outputs": [],
   "source": [
    "new_events = pd.merge(new_events, registration, how = 'left', left_on = 'user_id', right_on= 'user_id')"
   ]
  },
  {
   "cell_type": "code",
   "execution_count": 118,
   "metadata": {},
   "outputs": [
    {
     "data": {
      "text/html": [
       "<div>\n",
       "<style scoped>\n",
       "    .dataframe tbody tr th:only-of-type {\n",
       "        vertical-align: middle;\n",
       "    }\n",
       "\n",
       "    .dataframe tbody tr th {\n",
       "        vertical-align: top;\n",
       "    }\n",
       "\n",
       "    .dataframe thead th {\n",
       "        text-align: right;\n",
       "    }\n",
       "</style>\n",
       "<table border=\"1\" class=\"dataframe\">\n",
       "  <thead>\n",
       "    <tr style=\"text-align: right;\">\n",
       "      <th></th>\n",
       "      <th>user_id</th>\n",
       "      <th>timestamp</th>\n",
       "      <th>event</th>\n",
       "      <th>test_group</th>\n",
       "      <th>registered_at</th>\n",
       "      <th>device</th>\n",
       "      <th>geo</th>\n",
       "      <th>marketing</th>\n",
       "      <th>time_to_order</th>\n",
       "    </tr>\n",
       "  </thead>\n",
       "  <tbody>\n",
       "    <tr>\n",
       "      <th>0</th>\n",
       "      <td>1256666</td>\n",
       "      <td>2020-11-19 12:14:20</td>\n",
       "      <td>registration</td>\n",
       "      <td>big_increase</td>\n",
       "      <td>2020-11-19 12:14:20</td>\n",
       "      <td>desktop</td>\n",
       "      <td>regions</td>\n",
       "      <td>social</td>\n",
       "      <td>NaN</td>\n",
       "    </tr>\n",
       "    <tr>\n",
       "      <th>1</th>\n",
       "      <td>1225937</td>\n",
       "      <td>2020-11-23 03:37:05</td>\n",
       "      <td>registration</td>\n",
       "      <td>small_increase</td>\n",
       "      <td>2020-11-23 03:37:05</td>\n",
       "      <td>desktop</td>\n",
       "      <td>world</td>\n",
       "      <td>cpc</td>\n",
       "      <td>NaN</td>\n",
       "    </tr>\n",
       "    <tr>\n",
       "      <th>2</th>\n",
       "      <td>1265347</td>\n",
       "      <td>2020-11-19 16:15:57</td>\n",
       "      <td>registration</td>\n",
       "      <td>small_increase</td>\n",
       "      <td>2020-11-19 16:15:57</td>\n",
       "      <td>desktop</td>\n",
       "      <td>regions</td>\n",
       "      <td>cpc</td>\n",
       "      <td>NaN</td>\n",
       "    </tr>\n",
       "    <tr>\n",
       "      <th>3</th>\n",
       "      <td>1332763</td>\n",
       "      <td>2020-11-06 03:10:02</td>\n",
       "      <td>registration</td>\n",
       "      <td>small_increase</td>\n",
       "      <td>2020-11-06 03:10:02</td>\n",
       "      <td>desktop</td>\n",
       "      <td>regions</td>\n",
       "      <td>organic</td>\n",
       "      <td>NaN</td>\n",
       "    </tr>\n",
       "    <tr>\n",
       "      <th>4</th>\n",
       "      <td>1317792</td>\n",
       "      <td>2020-11-17 00:45:55</td>\n",
       "      <td>registration</td>\n",
       "      <td>control</td>\n",
       "      <td>2020-11-17 00:45:55</td>\n",
       "      <td>mobile</td>\n",
       "      <td>regions</td>\n",
       "      <td>organic</td>\n",
       "      <td>NaN</td>\n",
       "    </tr>\n",
       "    <tr>\n",
       "      <th>...</th>\n",
       "      <td>...</td>\n",
       "      <td>...</td>\n",
       "      <td>...</td>\n",
       "      <td>...</td>\n",
       "      <td>...</td>\n",
       "      <td>...</td>\n",
       "      <td>...</td>\n",
       "      <td>...</td>\n",
       "      <td>...</td>\n",
       "    </tr>\n",
       "    <tr>\n",
       "      <th>329562</th>\n",
       "      <td>1268139</td>\n",
       "      <td>2020-11-19 15:11:26</td>\n",
       "      <td>registration</td>\n",
       "      <td>small_increase</td>\n",
       "      <td>2020-11-19 15:11:26</td>\n",
       "      <td>desktop</td>\n",
       "      <td>world</td>\n",
       "      <td>organic</td>\n",
       "      <td>NaN</td>\n",
       "    </tr>\n",
       "    <tr>\n",
       "      <th>329563</th>\n",
       "      <td>1336773</td>\n",
       "      <td>2020-11-17 13:01:38</td>\n",
       "      <td>registration</td>\n",
       "      <td>small_increase</td>\n",
       "      <td>2020-11-17 13:01:38</td>\n",
       "      <td>desktop</td>\n",
       "      <td>spb</td>\n",
       "      <td>referral</td>\n",
       "      <td>NaN</td>\n",
       "    </tr>\n",
       "    <tr>\n",
       "      <th>329564</th>\n",
       "      <td>1400394</td>\n",
       "      <td>2020-11-17 18:05:28</td>\n",
       "      <td>registration</td>\n",
       "      <td>control</td>\n",
       "      <td>2020-11-17 18:05:28</td>\n",
       "      <td>desktop</td>\n",
       "      <td>msk</td>\n",
       "      <td>organic</td>\n",
       "      <td>NaN</td>\n",
       "    </tr>\n",
       "    <tr>\n",
       "      <th>329565</th>\n",
       "      <td>1210538</td>\n",
       "      <td>2020-11-09 20:40:37</td>\n",
       "      <td>registration</td>\n",
       "      <td>small_increase</td>\n",
       "      <td>2020-11-09 20:40:37</td>\n",
       "      <td>mobile</td>\n",
       "      <td>msk</td>\n",
       "      <td>organic</td>\n",
       "      <td>NaN</td>\n",
       "    </tr>\n",
       "    <tr>\n",
       "      <th>329566</th>\n",
       "      <td>1210538</td>\n",
       "      <td>2020-11-10 01:37:12</td>\n",
       "      <td>purchase</td>\n",
       "      <td>small_increase</td>\n",
       "      <td>2020-11-09 20:40:37</td>\n",
       "      <td>mobile</td>\n",
       "      <td>msk</td>\n",
       "      <td>organic</td>\n",
       "      <td>0.205961</td>\n",
       "    </tr>\n",
       "  </tbody>\n",
       "</table>\n",
       "<p>329567 rows × 9 columns</p>\n",
       "</div>"
      ],
      "text/plain": [
       "        user_id           timestamp         event      test_group  \\\n",
       "0       1256666 2020-11-19 12:14:20  registration    big_increase   \n",
       "1       1225937 2020-11-23 03:37:05  registration  small_increase   \n",
       "2       1265347 2020-11-19 16:15:57  registration  small_increase   \n",
       "3       1332763 2020-11-06 03:10:02  registration  small_increase   \n",
       "4       1317792 2020-11-17 00:45:55  registration         control   \n",
       "...         ...                 ...           ...             ...   \n",
       "329562  1268139 2020-11-19 15:11:26  registration  small_increase   \n",
       "329563  1336773 2020-11-17 13:01:38  registration  small_increase   \n",
       "329564  1400394 2020-11-17 18:05:28  registration         control   \n",
       "329565  1210538 2020-11-09 20:40:37  registration  small_increase   \n",
       "329566  1210538 2020-11-10 01:37:12      purchase  small_increase   \n",
       "\n",
       "             registered_at   device      geo marketing time_to_order  \n",
       "0      2020-11-19 12:14:20  desktop  regions    social           NaN  \n",
       "1      2020-11-23 03:37:05  desktop    world       cpc           NaN  \n",
       "2      2020-11-19 16:15:57  desktop  regions       cpc           NaN  \n",
       "3      2020-11-06 03:10:02  desktop  regions   organic           NaN  \n",
       "4      2020-11-17 00:45:55   mobile  regions   organic           NaN  \n",
       "...                    ...      ...      ...       ...           ...  \n",
       "329562 2020-11-19 15:11:26  desktop    world   organic           NaN  \n",
       "329563 2020-11-17 13:01:38  desktop      spb  referral           NaN  \n",
       "329564 2020-11-17 18:05:28  desktop      msk   organic           NaN  \n",
       "329565 2020-11-09 20:40:37   mobile      msk   organic           NaN  \n",
       "329566 2020-11-09 20:40:37   mobile      msk   organic      0.205961  \n",
       "\n",
       "[329567 rows x 9 columns]"
      ]
     },
     "execution_count": 118,
     "metadata": {},
     "output_type": "execute_result"
    }
   ],
   "source": [
    "new_events['time_to_order'] = new_events['timestamp'] - new_events['registered_at']\n",
    "new_events['time_to_order'] = new_events['time_to_order'].dt.total_seconds().div(86400).astype(float)\n",
    "# float значения.\n",
    "\n",
    "new_events['time_to_order'] = new_events['time_to_order'].apply(lambda x: 'NaN' if x <= 0 else x)\n",
    "# заменил пустые значения на NaN.\n",
    "new_events"
   ]
  },
  {
   "cell_type": "code",
   "execution_count": 119,
   "metadata": {},
   "outputs": [
    {
     "data": {
      "text/html": [
       "<div>\n",
       "<style scoped>\n",
       "    .dataframe tbody tr th:only-of-type {\n",
       "        vertical-align: middle;\n",
       "    }\n",
       "\n",
       "    .dataframe tbody tr th {\n",
       "        vertical-align: top;\n",
       "    }\n",
       "\n",
       "    .dataframe thead th {\n",
       "        text-align: right;\n",
       "    }\n",
       "</style>\n",
       "<table border=\"1\" class=\"dataframe\">\n",
       "  <thead>\n",
       "    <tr style=\"text-align: right;\">\n",
       "      <th></th>\n",
       "      <th>user_id</th>\n",
       "      <th>timestamp</th>\n",
       "      <th>event</th>\n",
       "      <th>test_group</th>\n",
       "      <th>registered_at</th>\n",
       "      <th>device</th>\n",
       "      <th>geo</th>\n",
       "      <th>marketing</th>\n",
       "      <th>time_to_order</th>\n",
       "    </tr>\n",
       "  </thead>\n",
       "  <tbody>\n",
       "    <tr>\n",
       "      <th>28</th>\n",
       "      <td>1343452</td>\n",
       "      <td>2020-11-20 20:37:40</td>\n",
       "      <td>purchase</td>\n",
       "      <td>small_increase</td>\n",
       "      <td>2020-11-19 15:56:34</td>\n",
       "      <td>desktop</td>\n",
       "      <td>spb</td>\n",
       "      <td>organic</td>\n",
       "      <td>1.19521</td>\n",
       "    </tr>\n",
       "    <tr>\n",
       "      <th>31</th>\n",
       "      <td>1287352</td>\n",
       "      <td>2020-11-18 15:37:09</td>\n",
       "      <td>purchase</td>\n",
       "      <td>control</td>\n",
       "      <td>2020-11-13 17:30:22</td>\n",
       "      <td>mobile</td>\n",
       "      <td>msk</td>\n",
       "      <td>organic</td>\n",
       "      <td>4.92138</td>\n",
       "    </tr>\n",
       "    <tr>\n",
       "      <th>35</th>\n",
       "      <td>1276338</td>\n",
       "      <td>2020-11-27 04:30:56</td>\n",
       "      <td>purchase</td>\n",
       "      <td>control</td>\n",
       "      <td>2020-11-24 03:25:42</td>\n",
       "      <td>desktop</td>\n",
       "      <td>regions</td>\n",
       "      <td>organic</td>\n",
       "      <td>3.0453</td>\n",
       "    </tr>\n",
       "    <tr>\n",
       "      <th>57</th>\n",
       "      <td>1291792</td>\n",
       "      <td>2020-11-24 13:28:05</td>\n",
       "      <td>purchase</td>\n",
       "      <td>big_increase</td>\n",
       "      <td>2020-11-23 02:30:08</td>\n",
       "      <td>desktop</td>\n",
       "      <td>world</td>\n",
       "      <td>organic</td>\n",
       "      <td>1.45691</td>\n",
       "    </tr>\n",
       "    <tr>\n",
       "      <th>64</th>\n",
       "      <td>1397741</td>\n",
       "      <td>2020-11-17 12:13:37</td>\n",
       "      <td>purchase</td>\n",
       "      <td>control</td>\n",
       "      <td>2020-11-13 10:29:43</td>\n",
       "      <td>desktop</td>\n",
       "      <td>msk</td>\n",
       "      <td>cpc</td>\n",
       "      <td>4.07215</td>\n",
       "    </tr>\n",
       "    <tr>\n",
       "      <th>...</th>\n",
       "      <td>...</td>\n",
       "      <td>...</td>\n",
       "      <td>...</td>\n",
       "      <td>...</td>\n",
       "      <td>...</td>\n",
       "      <td>...</td>\n",
       "      <td>...</td>\n",
       "      <td>...</td>\n",
       "      <td>...</td>\n",
       "    </tr>\n",
       "    <tr>\n",
       "      <th>329530</th>\n",
       "      <td>1400795</td>\n",
       "      <td>2020-11-09 14:44:50</td>\n",
       "      <td>purchase</td>\n",
       "      <td>big_increase</td>\n",
       "      <td>2020-11-09 10:45:59</td>\n",
       "      <td>mobile</td>\n",
       "      <td>regions</td>\n",
       "      <td>cpc</td>\n",
       "      <td>0.165868</td>\n",
       "    </tr>\n",
       "    <tr>\n",
       "      <th>329533</th>\n",
       "      <td>1223473</td>\n",
       "      <td>2020-11-13 08:55:06</td>\n",
       "      <td>purchase</td>\n",
       "      <td>control</td>\n",
       "      <td>2020-11-12 14:40:09</td>\n",
       "      <td>tablet</td>\n",
       "      <td>spb</td>\n",
       "      <td>social</td>\n",
       "      <td>0.760382</td>\n",
       "    </tr>\n",
       "    <tr>\n",
       "      <th>329542</th>\n",
       "      <td>1177147</td>\n",
       "      <td>2020-11-11 22:14:44</td>\n",
       "      <td>purchase</td>\n",
       "      <td>big_increase</td>\n",
       "      <td>2020-11-11 16:09:26</td>\n",
       "      <td>desktop</td>\n",
       "      <td>regions</td>\n",
       "      <td>organic</td>\n",
       "      <td>0.253681</td>\n",
       "    </tr>\n",
       "    <tr>\n",
       "      <th>329546</th>\n",
       "      <td>1248667</td>\n",
       "      <td>2020-11-07 14:45:38</td>\n",
       "      <td>purchase</td>\n",
       "      <td>big_increase</td>\n",
       "      <td>2020-11-04 05:18:36</td>\n",
       "      <td>mobile</td>\n",
       "      <td>msk</td>\n",
       "      <td>organic</td>\n",
       "      <td>3.39377</td>\n",
       "    </tr>\n",
       "    <tr>\n",
       "      <th>329566</th>\n",
       "      <td>1210538</td>\n",
       "      <td>2020-11-10 01:37:12</td>\n",
       "      <td>purchase</td>\n",
       "      <td>small_increase</td>\n",
       "      <td>2020-11-09 20:40:37</td>\n",
       "      <td>mobile</td>\n",
       "      <td>msk</td>\n",
       "      <td>organic</td>\n",
       "      <td>0.205961</td>\n",
       "    </tr>\n",
       "  </tbody>\n",
       "</table>\n",
       "<p>33113 rows × 9 columns</p>\n",
       "</div>"
      ],
      "text/plain": [
       "        user_id           timestamp     event      test_group  \\\n",
       "28      1343452 2020-11-20 20:37:40  purchase  small_increase   \n",
       "31      1287352 2020-11-18 15:37:09  purchase         control   \n",
       "35      1276338 2020-11-27 04:30:56  purchase         control   \n",
       "57      1291792 2020-11-24 13:28:05  purchase    big_increase   \n",
       "64      1397741 2020-11-17 12:13:37  purchase         control   \n",
       "...         ...                 ...       ...             ...   \n",
       "329530  1400795 2020-11-09 14:44:50  purchase    big_increase   \n",
       "329533  1223473 2020-11-13 08:55:06  purchase         control   \n",
       "329542  1177147 2020-11-11 22:14:44  purchase    big_increase   \n",
       "329546  1248667 2020-11-07 14:45:38  purchase    big_increase   \n",
       "329566  1210538 2020-11-10 01:37:12  purchase  small_increase   \n",
       "\n",
       "             registered_at   device      geo marketing time_to_order  \n",
       "28     2020-11-19 15:56:34  desktop      spb   organic       1.19521  \n",
       "31     2020-11-13 17:30:22   mobile      msk   organic       4.92138  \n",
       "35     2020-11-24 03:25:42  desktop  regions   organic        3.0453  \n",
       "57     2020-11-23 02:30:08  desktop    world   organic       1.45691  \n",
       "64     2020-11-13 10:29:43  desktop      msk       cpc       4.07215  \n",
       "...                    ...      ...      ...       ...           ...  \n",
       "329530 2020-11-09 10:45:59   mobile  regions       cpc      0.165868  \n",
       "329533 2020-11-12 14:40:09   tablet      spb    social      0.760382  \n",
       "329542 2020-11-11 16:09:26  desktop  regions   organic      0.253681  \n",
       "329546 2020-11-04 05:18:36   mobile      msk   organic       3.39377  \n",
       "329566 2020-11-09 20:40:37   mobile      msk   organic      0.205961  \n",
       "\n",
       "[33113 rows x 9 columns]"
      ]
     },
     "execution_count": 119,
     "metadata": {},
     "output_type": "execute_result"
    }
   ],
   "source": [
    "only_purchase = new_events.loc[new_events['event'] == 'purchase'].copy()\n",
    "only_purchase"
   ]
  },
  {
   "cell_type": "code",
   "execution_count": 120,
   "metadata": {},
   "outputs": [
    {
     "data": {
      "text/plain": [
       "4.563645833333333"
      ]
     },
     "execution_count": 120,
     "metadata": {},
     "output_type": "execute_result"
    }
   ],
   "source": [
    "np.percentile(only_purchase['time_to_order'], 90)"
   ]
  },
  {
   "cell_type": "code",
   "execution_count": 121,
   "metadata": {},
   "outputs": [
    {
     "name": "stderr",
     "output_type": "stream",
     "text": [
      "C:\\Users\\Alexandr\\anaconda3\\lib\\site-packages\\seaborn\\distributions.py:2551: FutureWarning: `distplot` is a deprecated function and will be removed in a future version. Please adapt your code to use either `displot` (a figure-level function with similar flexibility) or `histplot` (an axes-level function for histograms).\n",
      "  warnings.warn(msg, FutureWarning)\n"
     ]
    },
    {
     "data": {
      "image/png": "[encoded data removed]",
      "text/plain": [
       "<Figure size 1152x648 with 1 Axes>"
      ]
     },
     "metadata": {
      "needs_background": "light"
     },
     "output_type": "display_data"
    }
   ],
   "source": [
    "perc_90 = round(np.percentile(only_purchase['time_to_order'], 90),1)\n",
    "\n",
    "plt.figure(figsize=(16,9))\n",
    "sns.distplot(only_purchase['time_to_order'])\n",
    "plt.vlines(perc_90,ymin = 0, ymax = 0.7, linestyle='dashed', label = f'90 перцентиль - {perc_90} дней')\n",
    "plt.title('Распределение')\n",
    "plt.xlabel('Количество дней')\n",
    "plt.ylabel('Количество пользователей')\n",
    "plt.legend()\n",
    "plt.show()"
   ]
  },
  {
   "cell_type": "code",
   "execution_count": 122,
   "metadata": {},
   "outputs": [
    {
     "data": {
      "text/html": [
       "<div>\n",
       "<style scoped>\n",
       "    .dataframe tbody tr th:only-of-type {\n",
       "        vertical-align: middle;\n",
       "    }\n",
       "\n",
       "    .dataframe tbody tr th {\n",
       "        vertical-align: top;\n",
       "    }\n",
       "\n",
       "    .dataframe thead th {\n",
       "        text-align: right;\n",
       "    }\n",
       "</style>\n",
       "<table border=\"1\" class=\"dataframe\">\n",
       "  <thead>\n",
       "    <tr style=\"text-align: right;\">\n",
       "      <th></th>\n",
       "      <th>user_id</th>\n",
       "      <th>timestamp</th>\n",
       "      <th>event</th>\n",
       "      <th>test_group</th>\n",
       "      <th>registered_at</th>\n",
       "      <th>device</th>\n",
       "      <th>geo</th>\n",
       "      <th>marketing</th>\n",
       "      <th>time_to_order</th>\n",
       "      <th>created_order_in_4.6_days</th>\n",
       "    </tr>\n",
       "  </thead>\n",
       "  <tbody>\n",
       "    <tr>\n",
       "      <th>28</th>\n",
       "      <td>1343452</td>\n",
       "      <td>2020-11-20 20:37:40</td>\n",
       "      <td>purchase</td>\n",
       "      <td>small_increase</td>\n",
       "      <td>2020-11-19 15:56:34</td>\n",
       "      <td>desktop</td>\n",
       "      <td>spb</td>\n",
       "      <td>organic</td>\n",
       "      <td>1.19521</td>\n",
       "      <td>1</td>\n",
       "    </tr>\n",
       "    <tr>\n",
       "      <th>31</th>\n",
       "      <td>1287352</td>\n",
       "      <td>2020-11-18 15:37:09</td>\n",
       "      <td>purchase</td>\n",
       "      <td>control</td>\n",
       "      <td>2020-11-13 17:30:22</td>\n",
       "      <td>mobile</td>\n",
       "      <td>msk</td>\n",
       "      <td>organic</td>\n",
       "      <td>4.92138</td>\n",
       "      <td>0</td>\n",
       "    </tr>\n",
       "    <tr>\n",
       "      <th>35</th>\n",
       "      <td>1276338</td>\n",
       "      <td>2020-11-27 04:30:56</td>\n",
       "      <td>purchase</td>\n",
       "      <td>control</td>\n",
       "      <td>2020-11-24 03:25:42</td>\n",
       "      <td>desktop</td>\n",
       "      <td>regions</td>\n",
       "      <td>organic</td>\n",
       "      <td>3.0453</td>\n",
       "      <td>1</td>\n",
       "    </tr>\n",
       "    <tr>\n",
       "      <th>57</th>\n",
       "      <td>1291792</td>\n",
       "      <td>2020-11-24 13:28:05</td>\n",
       "      <td>purchase</td>\n",
       "      <td>big_increase</td>\n",
       "      <td>2020-11-23 02:30:08</td>\n",
       "      <td>desktop</td>\n",
       "      <td>world</td>\n",
       "      <td>organic</td>\n",
       "      <td>1.45691</td>\n",
       "      <td>1</td>\n",
       "    </tr>\n",
       "    <tr>\n",
       "      <th>64</th>\n",
       "      <td>1397741</td>\n",
       "      <td>2020-11-17 12:13:37</td>\n",
       "      <td>purchase</td>\n",
       "      <td>control</td>\n",
       "      <td>2020-11-13 10:29:43</td>\n",
       "      <td>desktop</td>\n",
       "      <td>msk</td>\n",
       "      <td>cpc</td>\n",
       "      <td>4.07215</td>\n",
       "      <td>1</td>\n",
       "    </tr>\n",
       "    <tr>\n",
       "      <th>...</th>\n",
       "      <td>...</td>\n",
       "      <td>...</td>\n",
       "      <td>...</td>\n",
       "      <td>...</td>\n",
       "      <td>...</td>\n",
       "      <td>...</td>\n",
       "      <td>...</td>\n",
       "      <td>...</td>\n",
       "      <td>...</td>\n",
       "      <td>...</td>\n",
       "    </tr>\n",
       "    <tr>\n",
       "      <th>329530</th>\n",
       "      <td>1400795</td>\n",
       "      <td>2020-11-09 14:44:50</td>\n",
       "      <td>purchase</td>\n",
       "      <td>big_increase</td>\n",
       "      <td>2020-11-09 10:45:59</td>\n",
       "      <td>mobile</td>\n",
       "      <td>regions</td>\n",
       "      <td>cpc</td>\n",
       "      <td>0.165868</td>\n",
       "      <td>1</td>\n",
       "    </tr>\n",
       "    <tr>\n",
       "      <th>329533</th>\n",
       "      <td>1223473</td>\n",
       "      <td>2020-11-13 08:55:06</td>\n",
       "      <td>purchase</td>\n",
       "      <td>control</td>\n",
       "      <td>2020-11-12 14:40:09</td>\n",
       "      <td>tablet</td>\n",
       "      <td>spb</td>\n",
       "      <td>social</td>\n",
       "      <td>0.760382</td>\n",
       "      <td>1</td>\n",
       "    </tr>\n",
       "    <tr>\n",
       "      <th>329542</th>\n",
       "      <td>1177147</td>\n",
       "      <td>2020-11-11 22:14:44</td>\n",
       "      <td>purchase</td>\n",
       "      <td>big_increase</td>\n",
       "      <td>2020-11-11 16:09:26</td>\n",
       "      <td>desktop</td>\n",
       "      <td>regions</td>\n",
       "      <td>organic</td>\n",
       "      <td>0.253681</td>\n",
       "      <td>1</td>\n",
       "    </tr>\n",
       "    <tr>\n",
       "      <th>329546</th>\n",
       "      <td>1248667</td>\n",
       "      <td>2020-11-07 14:45:38</td>\n",
       "      <td>purchase</td>\n",
       "      <td>big_increase</td>\n",
       "      <td>2020-11-04 05:18:36</td>\n",
       "      <td>mobile</td>\n",
       "      <td>msk</td>\n",
       "      <td>organic</td>\n",
       "      <td>3.39377</td>\n",
       "      <td>1</td>\n",
       "    </tr>\n",
       "    <tr>\n",
       "      <th>329566</th>\n",
       "      <td>1210538</td>\n",
       "      <td>2020-11-10 01:37:12</td>\n",
       "      <td>purchase</td>\n",
       "      <td>small_increase</td>\n",
       "      <td>2020-11-09 20:40:37</td>\n",
       "      <td>mobile</td>\n",
       "      <td>msk</td>\n",
       "      <td>organic</td>\n",
       "      <td>0.205961</td>\n",
       "      <td>1</td>\n",
       "    </tr>\n",
       "  </tbody>\n",
       "</table>\n",
       "<p>33113 rows × 10 columns</p>\n",
       "</div>"
      ],
      "text/plain": [
       "        user_id           timestamp     event      test_group  \\\n",
       "28      1343452 2020-11-20 20:37:40  purchase  small_increase   \n",
       "31      1287352 2020-11-18 15:37:09  purchase         control   \n",
       "35      1276338 2020-11-27 04:30:56  purchase         control   \n",
       "57      1291792 2020-11-24 13:28:05  purchase    big_increase   \n",
       "64      1397741 2020-11-17 12:13:37  purchase         control   \n",
       "...         ...                 ...       ...             ...   \n",
       "329530  1400795 2020-11-09 14:44:50  purchase    big_increase   \n",
       "329533  1223473 2020-11-13 08:55:06  purchase         control   \n",
       "329542  1177147 2020-11-11 22:14:44  purchase    big_increase   \n",
       "329546  1248667 2020-11-07 14:45:38  purchase    big_increase   \n",
       "329566  1210538 2020-11-10 01:37:12  purchase  small_increase   \n",
       "\n",
       "             registered_at   device      geo marketing time_to_order  \\\n",
       "28     2020-11-19 15:56:34  desktop      spb   organic       1.19521   \n",
       "31     2020-11-13 17:30:22   mobile      msk   organic       4.92138   \n",
       "35     2020-11-24 03:25:42  desktop  regions   organic        3.0453   \n",
       "57     2020-11-23 02:30:08  desktop    world   organic       1.45691   \n",
       "64     2020-11-13 10:29:43  desktop      msk       cpc       4.07215   \n",
       "...                    ...      ...      ...       ...           ...   \n",
       "329530 2020-11-09 10:45:59   mobile  regions       cpc      0.165868   \n",
       "329533 2020-11-12 14:40:09   tablet      spb    social      0.760382   \n",
       "329542 2020-11-11 16:09:26  desktop  regions   organic      0.253681   \n",
       "329546 2020-11-04 05:18:36   mobile      msk   organic       3.39377   \n",
       "329566 2020-11-09 20:40:37   mobile      msk   organic      0.205961   \n",
       "\n",
       "        created_order_in_4.6_days  \n",
       "28                              1  \n",
       "31                              0  \n",
       "35                              1  \n",
       "57                              1  \n",
       "64                              1  \n",
       "...                           ...  \n",
       "329530                          1  \n",
       "329533                          1  \n",
       "329542                          1  \n",
       "329546                          1  \n",
       "329566                          1  \n",
       "\n",
       "[33113 rows x 10 columns]"
      ]
     },
     "execution_count": 122,
     "metadata": {},
     "output_type": "execute_result"
    }
   ],
   "source": [
    "only_purchase['created_order_in_4.6_days'] = only_purchase['time_to_order'].apply(lambda x: 1 if x < 4.6 else 0)\n",
    "only_purchase \n",
    "# 1 - если сделан заказ за 4.6 дней, 0 - если нет."
   ]
  },
  {
   "cell_type": "code",
   "execution_count": 123,
   "metadata": {},
   "outputs": [],
   "source": [
    "only_purchase = pd.merge(only_purchase, purchases, how = 'left', left_on = 'user_id', right_on = 'user_id')"
   ]
  },
  {
   "cell_type": "code",
   "execution_count": 124,
   "metadata": {},
   "outputs": [],
   "source": [
    "data = pd.merge(new_events,only_purchase[['user_id','event','order_sum','created_order_in_4.6_days']] ,\n",
    "                     how = 'left', left_on= ['user_id','event'], right_on =['user_id','event'])"
   ]
  },
  {
   "cell_type": "code",
   "execution_count": 125,
   "metadata": {},
   "outputs": [
    {
     "data": {
      "text/html": [
       "<div>\n",
       "<style scoped>\n",
       "    .dataframe tbody tr th:only-of-type {\n",
       "        vertical-align: middle;\n",
       "    }\n",
       "\n",
       "    .dataframe tbody tr th {\n",
       "        vertical-align: top;\n",
       "    }\n",
       "\n",
       "    .dataframe thead th {\n",
       "        text-align: right;\n",
       "    }\n",
       "</style>\n",
       "<table border=\"1\" class=\"dataframe\">\n",
       "  <thead>\n",
       "    <tr style=\"text-align: right;\">\n",
       "      <th></th>\n",
       "      <th>test_group</th>\n",
       "      <th>user_id</th>\n",
       "      <th>created_order_in_4.6_days</th>\n",
       "      <th>conversion</th>\n",
       "    </tr>\n",
       "  </thead>\n",
       "  <tbody>\n",
       "    <tr>\n",
       "      <th>0</th>\n",
       "      <td>big_increase</td>\n",
       "      <td>108990</td>\n",
       "      <td>9754.0</td>\n",
       "      <td>8.95</td>\n",
       "    </tr>\n",
       "    <tr>\n",
       "      <th>1</th>\n",
       "      <td>control</td>\n",
       "      <td>110742</td>\n",
       "      <td>10202.0</td>\n",
       "      <td>9.21</td>\n",
       "    </tr>\n",
       "    <tr>\n",
       "      <th>2</th>\n",
       "      <td>small_increase</td>\n",
       "      <td>109893</td>\n",
       "      <td>9917.0</td>\n",
       "      <td>9.02</td>\n",
       "    </tr>\n",
       "  </tbody>\n",
       "</table>\n",
       "</div>"
      ],
      "text/plain": [
       "       test_group  user_id  created_order_in_4.6_days  conversion\n",
       "0    big_increase   108990                     9754.0        8.95\n",
       "1         control   110742                    10202.0        9.21\n",
       "2  small_increase   109893                     9917.0        9.02"
      ]
     },
     "execution_count": 125,
     "metadata": {},
     "output_type": "execute_result"
    }
   ],
   "source": [
    "metrics = data.groupby('test_group', as_index=False).agg({'user_id': 'count', 'created_order_in_4.6_days': 'sum'})\n",
    "metrics['conversion']=round(metrics['created_order_in_4.6_days']/metrics['user_id']*100,2)\n",
    "metrics"
   ]
  },
  {
   "cell_type": "code",
   "execution_count": 126,
   "metadata": {},
   "outputs": [],
   "source": [
    "def segments(df, segment_columns, test_factor):\n",
    "    for segment in segment_columns:\n",
    "        agg_data = df.groupby(by=[test_factor, segment]).user_id.count().reset_index()\n",
    "        sns.catplot(x = segment, y = 'user_id', hue = test_factor, data = agg_data, kind = 'bar', height =4, aspect = 1.5)\n",
    "        "
   ]
  },
  {
   "cell_type": "code",
   "execution_count": 127,
   "metadata": {},
   "outputs": [
    {
     "data": {
      "image/png": "[encoded data removed]",
      "text/plain": [
       "<Figure size 542x288 with 1 Axes>"
      ]
     },
     "metadata": {
      "needs_background": "light"
     },
     "output_type": "display_data"
    },
    {
     "data": {
      "image/png": "[encoded data removed]",
      "text/plain": [
       "<Figure size 542x288 with 1 Axes>"
      ]
     },
     "metadata": {
      "needs_background": "light"
     },
     "output_type": "display_data"
    }
   ],
   "source": [
    "segments(data, ['geo','marketing'], 'test_group')"
   ]
  },
  {
   "cell_type": "code",
   "execution_count": 15,
   "metadata": {},
   "outputs": [],
   "source": [
    "# сегменты равномерны"
   ]
  },
  {
   "cell_type": "code",
   "execution_count": 129,
   "metadata": {},
   "outputs": [
    {
     "data": {
      "text/plain": [
       "0.03197338295163398"
      ]
     },
     "execution_count": 129,
     "metadata": {},
     "output_type": "execute_result"
    }
   ],
   "source": [
    "metrics_big_control = metrics.iloc[[0,1]]\n",
    "chi2stat,pval_big_contr,table = proportion.proportions_chisquare(metrics_big_control['created_order_in_4.6_days'],\n",
    "                                                       metrics_big_control['user_id'])\n",
    "pval_big_contr"
   ]
  },
  {
   "cell_type": "code",
   "execution_count": 130,
   "metadata": {},
   "outputs": [
    {
     "data": {
      "text/plain": [
       "0.12474487717781525"
      ]
     },
     "execution_count": 130,
     "metadata": {},
     "output_type": "execute_result"
    }
   ],
   "source": [
    "metrics_small_control = metrics.iloc[[1,2]]\n",
    "chi2stat,pval_small_control,table = proportion.proportions_chisquare(metrics_small_control['created_order_in_4.6_days'],\n",
    "                                                       metrics_small_control['user_id'])\n",
    "pval_small_control"
   ]
  },
  {
   "cell_type": "code",
   "execution_count": 131,
   "metadata": {},
   "outputs": [
    {
     "data": {
      "text/plain": [
       "0.5407311985330518"
      ]
     },
     "execution_count": 131,
     "metadata": {},
     "output_type": "execute_result"
    }
   ],
   "source": [
    "metrics_big_small = metrics.iloc[[0,2]]\n",
    "chi2stat,pval_big_small,table = proportion.proportions_chisquare(metrics_big_small['created_order_in_4.6_days'],\n",
    "                                                       metrics_big_small['user_id'])\n",
    "pval_big_small"
   ]
  },
  {
   "cell_type": "code",
   "execution_count": 132,
   "metadata": {},
   "outputs": [
    {
     "data": {
      "text/html": [
       "<div>\n",
       "<style scoped>\n",
       "    .dataframe tbody tr th:only-of-type {\n",
       "        vertical-align: middle;\n",
       "    }\n",
       "\n",
       "    .dataframe tbody tr th {\n",
       "        vertical-align: top;\n",
       "    }\n",
       "\n",
       "    .dataframe thead th {\n",
       "        text-align: right;\n",
       "    }\n",
       "</style>\n",
       "<table border=\"1\" class=\"dataframe\">\n",
       "  <thead>\n",
       "    <tr style=\"text-align: right;\">\n",
       "      <th></th>\n",
       "      <th>Вариант сравнения</th>\n",
       "      <th>p-value (до поправки)</th>\n",
       "      <th>Есть ли стат. значимая разница (до поправки)</th>\n",
       "    </tr>\n",
       "  </thead>\n",
       "  <tbody>\n",
       "    <tr>\n",
       "      <th>0</th>\n",
       "      <td>big vs control</td>\n",
       "      <td>0.031973</td>\n",
       "      <td>True</td>\n",
       "    </tr>\n",
       "    <tr>\n",
       "      <th>1</th>\n",
       "      <td>small vs control</td>\n",
       "      <td>0.124745</td>\n",
       "      <td>False</td>\n",
       "    </tr>\n",
       "    <tr>\n",
       "      <th>2</th>\n",
       "      <td>big vs small</td>\n",
       "      <td>0.540731</td>\n",
       "      <td>False</td>\n",
       "    </tr>\n",
       "  </tbody>\n",
       "</table>\n",
       "</div>"
      ],
      "text/plain": [
       "  Вариант сравнения  p-value (до поправки)  \\\n",
       "0    big vs control               0.031973   \n",
       "1  small vs control               0.124745   \n",
       "2      big vs small               0.540731   \n",
       "\n",
       "   Есть ли стат. значимая разница (до поправки)  \n",
       "0                                          True  \n",
       "1                                         False  \n",
       "2                                         False  "
      ]
     },
     "execution_count": 132,
     "metadata": {},
     "output_type": "execute_result"
    }
   ],
   "source": [
    "results = pd.DataFrame({'Вариант сравнения': ['big vs control', 'small vs control', 'big vs small'],\n",
    "                        'p-value (до поправки)': [pval_big_contr, pval_small_control, pval_big_small],\n",
    "                        'Есть ли стат. значимая разница (до поправки)': [True, False, False]})\n",
    "results"
   ]
  },
  {
   "cell_type": "code",
   "execution_count": 133,
   "metadata": {},
   "outputs": [],
   "source": [
    "new_results = multipletests(pvals = results['p-value (до поправки)'], alpha=0.05, method='bonferroni')"
   ]
  },
  {
   "cell_type": "code",
   "execution_count": 134,
   "metadata": {},
   "outputs": [
    {
     "data": {
      "text/html": [
       "<div>\n",
       "<style scoped>\n",
       "    .dataframe tbody tr th:only-of-type {\n",
       "        vertical-align: middle;\n",
       "    }\n",
       "\n",
       "    .dataframe tbody tr th {\n",
       "        vertical-align: top;\n",
       "    }\n",
       "\n",
       "    .dataframe thead th {\n",
       "        text-align: right;\n",
       "    }\n",
       "</style>\n",
       "<table border=\"1\" class=\"dataframe\">\n",
       "  <thead>\n",
       "    <tr style=\"text-align: right;\">\n",
       "      <th></th>\n",
       "      <th>Вариант сравнения</th>\n",
       "      <th>p-value (до поправки)</th>\n",
       "      <th>Есть ли стат. значимая разница (до поправки)</th>\n",
       "      <th>p-value (после поправки)</th>\n",
       "      <th>Есть ли стат. значимая разница (после поправки)</th>\n",
       "    </tr>\n",
       "  </thead>\n",
       "  <tbody>\n",
       "    <tr>\n",
       "      <th>0</th>\n",
       "      <td>big vs control</td>\n",
       "      <td>0.031973</td>\n",
       "      <td>True</td>\n",
       "      <td>0.095920</td>\n",
       "      <td>False</td>\n",
       "    </tr>\n",
       "    <tr>\n",
       "      <th>1</th>\n",
       "      <td>small vs control</td>\n",
       "      <td>0.124745</td>\n",
       "      <td>False</td>\n",
       "      <td>0.374235</td>\n",
       "      <td>False</td>\n",
       "    </tr>\n",
       "    <tr>\n",
       "      <th>2</th>\n",
       "      <td>big vs small</td>\n",
       "      <td>0.540731</td>\n",
       "      <td>False</td>\n",
       "      <td>1.000000</td>\n",
       "      <td>False</td>\n",
       "    </tr>\n",
       "  </tbody>\n",
       "</table>\n",
       "</div>"
      ],
      "text/plain": [
       "  Вариант сравнения  p-value (до поправки)  \\\n",
       "0    big vs control               0.031973   \n",
       "1  small vs control               0.124745   \n",
       "2      big vs small               0.540731   \n",
       "\n",
       "   Есть ли стат. значимая разница (до поправки)  p-value (после поправки)  \\\n",
       "0                                          True                  0.095920   \n",
       "1                                         False                  0.374235   \n",
       "2                                         False                  1.000000   \n",
       "\n",
       "   Есть ли стат. значимая разница (после поправки)  \n",
       "0                                            False  \n",
       "1                                            False  \n",
       "2                                            False  "
      ]
     },
     "execution_count": 134,
     "metadata": {},
     "output_type": "execute_result"
    }
   ],
   "source": [
    "results['p-value (после поправки)'] = new_results[1]\n",
    "results['Есть ли стат. значимая разница (после поправки)'] = new_results[0]\n",
    "results"
   ]
  },
  {
   "cell_type": "code",
   "execution_count": 135,
   "metadata": {},
   "outputs": [],
   "source": [
    "# у каждого варианта p-value > alpha,статистически значимой разницы нет, отклонить нулевую гипотезу мы не можем."
   ]
  },
  {
   "cell_type": "code",
   "execution_count": 136,
   "metadata": {},
   "outputs": [],
   "source": [
    "big_increase = only_purchase[only_purchase['test_group'] == 'big_increase']['order_sum'].dropna().values"
   ]
  },
  {
   "cell_type": "code",
   "execution_count": 137,
   "metadata": {},
   "outputs": [],
   "source": [
    "small_increase = only_purchase[only_purchase['test_group'] == 'small_increase']['order_sum'].dropna().values"
   ]
  },
  {
   "cell_type": "code",
   "execution_count": 138,
   "metadata": {},
   "outputs": [],
   "source": [
    "control = only_purchase[only_purchase['test_group'] == 'control']['order_sum'].dropna().values"
   ]
  },
  {
   "cell_type": "code",
   "execution_count": 139,
   "metadata": {},
   "outputs": [
    {
     "name": "stderr",
     "output_type": "stream",
     "text": [
      "C:\\Users\\Alexandr\\anaconda3\\lib\\site-packages\\seaborn\\distributions.py:2551: FutureWarning: `distplot` is a deprecated function and will be removed in a future version. Please adapt your code to use either `displot` (a figure-level function with similar flexibility) or `histplot` (an axes-level function for histograms).\n",
      "  warnings.warn(msg, FutureWarning)\n"
     ]
    },
    {
     "data": {
      "image/png": "[encoded data removed]",
      "text/plain": [
       "<Figure size 1800x720 with 1 Axes>"
      ]
     },
     "metadata": {
      "needs_background": "light"
     },
     "output_type": "display_data"
    }
   ],
   "source": [
    "boot_res_1 = bs.bootstrap_ab(test = big_increase, ctrl = control,\n",
    "                             stat_func = bs_stats.mean,\n",
    "                             compare_func = bs_compare.difference,\n",
    "                             return_distribution=True)\n",
    "\n",
    "borders = np.percentile(boot_res_1, [2.5, 97.5])\n",
    "\n",
    "sns.distplot(boot_res_1)\n",
    "plt.title('Bootstrap-распределение разниц среднего чека с большим увеличением цены')\n",
    "plt.rcParams['figure.figsize'] = (25,10)\n",
    "plt.vlines(0, ymin = 0, ymax = 0.003, linestyle = '--', colors = 'red')\n",
    "plt.vlines(borders, ymin = 0, ymax = 0.003, linestyle = '--', colors = 'black', label = '95% - доверительный интервал')\n",
    "plt.legend()\n",
    "plt.show()"
   ]
  },
  {
   "cell_type": "code",
   "execution_count": 94,
   "metadata": {},
   "outputs": [],
   "source": [
    "# судя по графику, конверсия в тестовом варианте с большим увеличением цены статистически выше, чем в контрольном."
   ]
  },
  {
   "cell_type": "code",
   "execution_count": 140,
   "metadata": {},
   "outputs": [
    {
     "name": "stderr",
     "output_type": "stream",
     "text": [
      "C:\\Users\\Alexandr\\anaconda3\\lib\\site-packages\\seaborn\\distributions.py:2551: FutureWarning: `distplot` is a deprecated function and will be removed in a future version. Please adapt your code to use either `displot` (a figure-level function with similar flexibility) or `histplot` (an axes-level function for histograms).\n",
      "  warnings.warn(msg, FutureWarning)\n"
     ]
    },
    {
     "data": {
      "image/png": "[encoded data removed]",
      "text/plain": [
       "<Figure size 1800x720 with 1 Axes>"
      ]
     },
     "metadata": {
      "needs_background": "light"
     },
     "output_type": "display_data"
    }
   ],
   "source": [
    "boot_res_2 = bs.bootstrap_ab(test = small_increase, ctrl = control,\n",
    "                             stat_func = bs_stats.mean,\n",
    "                             compare_func = bs_compare.difference,\n",
    "                             return_distribution=True)\n",
    "\n",
    "borders = np.percentile(boot_res_2, [2.5, 97.5])\n",
    "\n",
    "sns.distplot(boot_res_2)\n",
    "plt.title('Bootstrap-распределение разниц среднего чека с маленьким учеличением цены')\n",
    "plt.rcParams['figure.figsize'] = (25,10)\n",
    "plt.vlines(0, ymin = 0, ymax = 0.003, linestyle = '--', colors = 'red')\n",
    "plt.vlines(borders, ymin = 0, ymax = 0.003, linestyle = '--', colors = 'black', label = '95% - доверительный интервал')\n",
    "plt.legend()\n",
    "plt.show()"
   ]
  },
  {
   "cell_type": "code",
   "execution_count": 96,
   "metadata": {},
   "outputs": [],
   "source": [
    "# суля по графику нет статистически значимой разницы, при сравнении контрольной группы, и группы с небольшим увеличением цены"
   ]
  },
  {
   "cell_type": "code",
   "execution_count": 109,
   "metadata": {},
   "outputs": [
    {
     "data": {
      "text/html": [
       "<div>\n",
       "<style scoped>\n",
       "    .dataframe tbody tr th:only-of-type {\n",
       "        vertical-align: middle;\n",
       "    }\n",
       "\n",
       "    .dataframe tbody tr th {\n",
       "        vertical-align: top;\n",
       "    }\n",
       "\n",
       "    .dataframe thead th {\n",
       "        text-align: right;\n",
       "    }\n",
       "</style>\n",
       "<table border=\"1\" class=\"dataframe\">\n",
       "  <thead>\n",
       "    <tr style=\"text-align: right;\">\n",
       "      <th></th>\n",
       "      <th>test_group</th>\n",
       "      <th>user_id</th>\n",
       "      <th>created_order_in_4.6_days</th>\n",
       "      <th>conversion</th>\n",
       "    </tr>\n",
       "  </thead>\n",
       "  <tbody>\n",
       "    <tr>\n",
       "      <th>0</th>\n",
       "      <td>big_increase</td>\n",
       "      <td>108990</td>\n",
       "      <td>9754.0</td>\n",
       "      <td>8.95</td>\n",
       "    </tr>\n",
       "    <tr>\n",
       "      <th>1</th>\n",
       "      <td>control</td>\n",
       "      <td>110742</td>\n",
       "      <td>10202.0</td>\n",
       "      <td>9.21</td>\n",
       "    </tr>\n",
       "    <tr>\n",
       "      <th>2</th>\n",
       "      <td>small_increase</td>\n",
       "      <td>109893</td>\n",
       "      <td>9917.0</td>\n",
       "      <td>9.02</td>\n",
       "    </tr>\n",
       "  </tbody>\n",
       "</table>\n",
       "</div>"
      ],
      "text/plain": [
       "       test_group  user_id  created_order_in_4.6_days  conversion\n",
       "0    big_increase   108990                     9754.0        8.95\n",
       "1         control   110742                    10202.0        9.21\n",
       "2  small_increase   109893                     9917.0        9.02"
      ]
     },
     "execution_count": 109,
     "metadata": {},
     "output_type": "execute_result"
    }
   ],
   "source": [
    "metrics"
   ]
  },
  {
   "cell_type": "code",
   "execution_count": 141,
   "metadata": {},
   "outputs": [],
   "source": [
    "chipower = smp.GofChisquarePower()"
   ]
  },
  {
   "cell_type": "code",
   "execution_count": 142,
   "metadata": {},
   "outputs": [],
   "source": [
    "conversion_control = metrics['conversion'].values[1]/100\n",
    "conversion_big = metrics['conversion'].values[0]/100\n",
    "conversion_small = metrics['conversion'].values[2]/100\n",
    "nobs = min(metrics['user_id'])"
   ]
  },
  {
   "cell_type": "code",
   "execution_count": 143,
   "metadata": {},
   "outputs": [],
   "source": [
    "def chi2_effect_size(x, y):\n",
    "    return np.sqrt(((x - y) **2 / x))"
   ]
  },
  {
   "cell_type": "code",
   "execution_count": 144,
   "metadata": {},
   "outputs": [
    {
     "data": {
      "text/plain": [
       "0.7027014278653085"
      ]
     },
     "execution_count": 144,
     "metadata": {},
     "output_type": "execute_result"
    }
   ],
   "source": [
    "chipower.solve_power(effect_size = chi2_effect_size(conversion_control, conversion_small),\n",
    "                     nobs = nobs,\n",
    "                     alpha = pval_small_control,\n",
    "                     power = None)"
   ]
  },
  {
   "cell_type": "code",
   "execution_count": 102,
   "metadata": {},
   "outputs": [],
   "source": [
    "# при сравнении контрольной группы и группы с не большим увеличением цены мощность оказалась ниже 80%"
   ]
  },
  {
   "cell_type": "code",
   "execution_count": 145,
   "metadata": {},
   "outputs": [
    {
     "data": {
      "text/plain": [
       "0.7528962037162132"
      ]
     },
     "execution_count": 145,
     "metadata": {},
     "output_type": "execute_result"
    }
   ],
   "source": [
    "chipower.solve_power(effect_size = chi2_effect_size(conversion_control, conversion_big),\n",
    "                     nobs = nobs,\n",
    "                     alpha = pval_big_contr,\n",
    "                     power = None)"
   ]
  },
  {
   "cell_type": "code",
   "execution_count": 181,
   "metadata": {},
   "outputs": [],
   "source": [
    "# при сравнении контрольной группы и группы с большим увеличением цены мощность оказалась ниже 80%"
   ]
  },
  {
   "cell_type": "code",
   "execution_count": 146,
   "metadata": {},
   "outputs": [],
   "source": [
    "power = 0.8"
   ]
  },
  {
   "cell_type": "code",
   "execution_count": 147,
   "metadata": {},
   "outputs": [
    {
     "name": "stdout",
     "output_type": "stream",
     "text": [
      "Необходимый размер выборки для эксперимента - 243012\n"
     ]
    }
   ],
   "source": [
    "size_of_each_testgroup = chipower.solve_power(effect_size = chi2_effect_size(conversion_control, conversion_big),\n",
    "                     nobs = None,\n",
    "                     alpha = pval_big_contr,\n",
    "                     power = power)\n",
    "print('Необходимый размер выборки для эксперимента - {:.0f}'.format(2*size_of_each_testgroup))"
   ]
  },
  {
   "cell_type": "code",
   "execution_count": 148,
   "metadata": {},
   "outputs": [
    {
     "name": "stdout",
     "output_type": "stream",
     "text": [
      "Необходимый размер выборки для эксперимента - 288204\n"
     ]
    }
   ],
   "source": [
    "size_of_each_testgroup = chipower.solve_power(effect_size = chi2_effect_size(conversion_control, conversion_small),\n",
    "                     nobs = None,\n",
    "                     alpha = pval_small_control,\n",
    "                     power = power)\n",
    "print('Необходимый размер выборки для эксперимента - {:.0f}'.format(2*size_of_each_testgroup))"
   ]
  },
  {
   "cell_type": "code",
   "execution_count": null,
   "metadata": {},
   "outputs": [],
   "source": [
    "# Результаты теста показали, что увеличение цены не повлияет на конверсию в обоих случаях\n",
    "# однако большое увеличение цены увеличит доход , при этом не уменьшая конверсию на продукцию.\n",
    "# Но для лучшей точности эксперемента, необходимо увеличить размер выборки."
   ]
  }
 ],
 "metadata": {
  "interpreter": {
   "hash": "8f76a507740f3047a6e24f37d4798ba333afea7361a1e02e08539bcd872a2539"
  },
  "kernelspec": {
   "display_name": "Python 3.9.0 64-bit (system)",
   "name": "python3"
  },
  "language_info": {
   "codemirror_mode": {
    "name": "ipython",
    "version": 3
   },
   "file_extension": ".py",
   "mimetype": "text/x-python",
   "name": "python",
   "nbconvert_exporter": "python",
   "pygments_lexer": "ipython3",
   "version": "3.9.0"
  }
 },
 "nbformat": 4,
 "nbformat_minor": 4
}
